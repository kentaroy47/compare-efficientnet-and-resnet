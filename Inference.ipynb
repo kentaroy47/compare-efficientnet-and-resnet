{
 "cells": [
  {
   "cell_type": "code",
   "execution_count": 1,
   "metadata": {},
   "outputs": [],
   "source": [
    "import json\n",
    "from PIL import Image\n",
    "import torch\n",
    "from torchvision import transforms\n",
    "from torchvision import models\n",
    "import numpy as np\n",
    "import glob\n",
    "import time"
   ]
  },
  {
   "cell_type": "markdown",
   "metadata": {},
   "source": [
    "|    *Name*         |*# Params*|*Top-1 Acc.*|*GPU time?*|\n",
    "|:-----------------:|:--------:|:----------:|:-----------:|\n",
    "| `efficientnet-b0` |   5.3M   |    76.3    |             |\n",
    "| `efficientnet-b1` |   7.8M   |    78.8    |             |\n",
    "| `efficientnet-b2` |   9.2M   |    79.8    |             |\n",
    "| `efficientnet-b3` |    12M   |    81.1    |             |\n",
    "| `efficientnet-b4` |    19M   |    82.6    |             |\n",
    "| `efficientnet-b5` |    30M   |    83.3    |             |\n",
    "| `efficientnet-b6` |    43M   |    84.0    |             |\n",
    "| `efficientnet-b7` |    66M   |    84.4    |             |\n",
    "| `Res18`           |    ?     |    69.4    |             |\n",
    "| `Res34`           |    ?     |    73.3    |             |\n",
    "| `Res50`           |    ?     |    76.1    |             |\n",
    "| `Res101`          |    ?     |    76.3    |             |"
   ]
  },
  {
   "cell_type": "code",
   "execution_count": 2,
   "metadata": {},
   "outputs": [],
   "source": [
    "def eval(model, device=\"cuda\"):\n",
    "    evaltime = []\n",
    "    imgpath=\"../VOCdevkit/VOC2007/JPEGImages/\"\n",
    "    images=glob.glob(imgpath+\"*jpg\")\n",
    "    for img in images[0:100]:\n",
    "        # Preprocess image\n",
    "        tfms = transforms.Compose([transforms.Resize(224), transforms.ToTensor(),\n",
    "            transforms.Normalize([0.485, 0.456, 0.406], [0.229, 0.224, 0.225]),])\n",
    "        img = tfms(Image.open(img)).unsqueeze(0).to(device)\n",
    "        #print(img.shape) # torch.Size([1, 3, 224, 224])\n",
    "\n",
    "        # Load ImageNet class names\n",
    "        labels_map = json.load(open('labels_map.txt'))\n",
    "        labels_map = [labels_map[str(i)] for i in range(1000)]\n",
    "\n",
    "        # Classify\n",
    "        model.eval()\n",
    "        tick = time.time()\n",
    "        with torch.no_grad():\n",
    "            outputs = model(img)\n",
    "        #print(\"eval time=\", time.time()-tick)\n",
    "        evaltime.append(time.time()-tick)\n",
    "\n",
    "        # Print predictions\n",
    "        #print('-----')\n",
    "        #for idx in torch.topk(outputs, k=5).indices.squeeze(0).tolist():\n",
    "        #    prob = torch.softmax(outputs, dim=1)[0, idx].item()\n",
    "        #    print('{label:<75} ({p:.2f}%)'.format(label=labels_map[idx], p=prob*100))\n",
    "    print(\"mean eval time:\", np.mean(evaltime))"
   ]
  },
  {
   "cell_type": "markdown",
   "metadata": {},
   "source": [
    "# setup efficientnet"
   ]
  },
  {
   "cell_type": "code",
   "execution_count": null,
   "metadata": {},
   "outputs": [
    {
     "name": "stdout",
     "output_type": "stream",
     "text": [
      "Requirement already up-to-date: efficientnet-pytorch in /home/ubuntu/anaconda3/envs/pytorch_p36/lib/python3.6/site-packages (0.5.1)\r\n",
      "Requirement already satisfied, skipping upgrade: torch in /home/ubuntu/anaconda3/envs/pytorch_p36/lib/python3.6/site-packages (from efficientnet-pytorch) (1.1.0)\r\n",
      "Requirement already satisfied, skipping upgrade: numpy in /home/ubuntu/anaconda3/envs/pytorch_p36/lib/python3.6/site-packages (from torch->efficientnet-pytorch) (1.15.4)\r\n"
     ]
    }
   ],
   "source": [
    "!pip install --upgrade efficientnet-pytorch"
   ]
  },
  {
   "cell_type": "markdown",
   "metadata": {},
   "source": [
    "## Inference with GPUs"
   ]
  },
  {
   "cell_type": "code",
   "execution_count": null,
   "metadata": {},
   "outputs": [],
   "source": [
    "from efficientnet_pytorch import EfficientNet\n",
    "model = EfficientNet.from_pretrained('efficientnet-b0').to(\"cuda\")"
   ]
  },
  {
   "cell_type": "code",
   "execution_count": null,
   "metadata": {},
   "outputs": [],
   "source": [
    "eval(model)"
   ]
  },
  {
   "cell_type": "markdown",
   "metadata": {},
   "source": [
    "## Inference with CPUs"
   ]
  },
  {
   "cell_type": "code",
   "execution_count": null,
   "metadata": {},
   "outputs": [],
   "source": [
    "model = model.to(\"cpu\")"
   ]
  },
  {
   "cell_type": "code",
   "execution_count": null,
   "metadata": {},
   "outputs": [],
   "source": [
    "eval(model, \"cpu\")"
   ]
  },
  {
   "cell_type": "markdown",
   "metadata": {},
   "source": [
    "# setup and eval resnet"
   ]
  },
  {
   "cell_type": "code",
   "execution_count": null,
   "metadata": {},
   "outputs": [],
   "source": [
    "model = models.resnet50(pretrained=True).to(\"cuda\")"
   ]
  },
  {
   "cell_type": "markdown",
   "metadata": {},
   "source": [
    "## Inference with GPUs"
   ]
  },
  {
   "cell_type": "code",
   "execution_count": null,
   "metadata": {},
   "outputs": [],
   "source": [
    "eval(model)"
   ]
  },
  {
   "cell_type": "markdown",
   "metadata": {},
   "source": [
    "## Inference with CPUs"
   ]
  },
  {
   "cell_type": "code",
   "execution_count": null,
   "metadata": {},
   "outputs": [],
   "source": [
    "model = model.to(\"cpu\")"
   ]
  },
  {
   "cell_type": "code",
   "execution_count": null,
   "metadata": {},
   "outputs": [],
   "source": [
    "eval(model, \"cpu\")"
   ]
  },
  {
   "cell_type": "code",
   "execution_count": null,
   "metadata": {},
   "outputs": [],
   "source": []
  }
 ],
 "metadata": {
  "kernelspec": {
   "display_name": "Python 3",
   "language": "python",
   "name": "python3"
  },
  "language_info": {
   "codemirror_mode": {
    "name": "ipython",
    "version": 3
   },
   "file_extension": ".py",
   "mimetype": "text/x-python",
   "name": "python",
   "nbconvert_exporter": "python",
   "pygments_lexer": "ipython3",
   "version": "3.6.5"
  }
 },
 "nbformat": 4,
 "nbformat_minor": 2
}
