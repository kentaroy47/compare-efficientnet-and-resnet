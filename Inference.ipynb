{
 "cells": [
  {
   "cell_type": "code",
   "execution_count": 1,
   "metadata": {},
   "outputs": [],
   "source": [
    "import json\n",
    "from PIL import Image\n",
    "import torch\n",
    "from torchvision import transforms\n",
    "from torchvision import models\n",
    "import numpy as np\n",
    "import glob\n",
    "import time"
   ]
  },
  {
   "cell_type": "markdown",
   "metadata": {},
   "source": [
    "|    *Name*         |*# Params*|*Top-1 Acc.*|*GPU time?*  |*CPU time?*|\n",
    "|:-----------------:|:--------:|:----------:|:-----------:|:----------|\n",
    "| `efficientnet-b0` |   5.3M   |    76.3    |16.3ms       |75ms       |\n",
    "| `efficientnet-b1` |   7.8M   |    78.8    |23.2ms       |111ms      |\n",
    "| `efficientnet-b2` |   9.2M   |    79.8    |23.3ms       |123ms|\n",
    "| `efficientnet-b3` |    12M   |    81.1    |26.4ms       |173ms|\n",
    "| `efficientnet-b4` |    19M   |    82.6    |32.1ms       |295ms|\n",
    "| `efficientnet-b5` |    30M   |    83.3    |40.3ms       |542ms|\n",
    "| `efficientnet-b6` |    43M   |    84.0    |45.3ms       |918ms|\n",
    "| `efficientnet-b7` |    66M   |    84.4    |57.3ms       |1970ms|\n",
    "| `Res18`           |    ?     |    69.4    |3.8ms        |48ms|\n",
    "| `Res34`           |    ?     |    73.3    |6.5ms       |85ms|\n",
    "| `Res50`           |    ?     |    76.1    |9.6ms       |115ms|\n",
    "| `Res101`          |    ?     |    77.3    |18.2ms      |200ms|\n",
    "| `Res152`          |    ?     |    78.3    |26.9ms      |288ms|"
   ]
  },
  {
   "cell_type": "code",
   "execution_count": 25,
   "metadata": {},
   "outputs": [],
   "source": [
    "def eval(model, imsize=224):\n",
    "    \n",
    "    for device in [\"cuda\", \"cpu\"]:\n",
    "        model = model.to(device)\n",
    "        evaltime = []\n",
    "        imgpath=\"../VOCdevkit/VOC2007/JPEGImages/\"\n",
    "        images=glob.glob(imgpath+\"*jpg\")\n",
    "        for img in images[0:100]:\n",
    "            # Preprocess image\n",
    "            tfms = transforms.Compose([transforms.Resize(imsize), transforms.ToTensor(),\n",
    "                transforms.Normalize([0.485, 0.456, 0.406], [0.229, 0.224, 0.225]),])\n",
    "            img = tfms(Image.open(img)).unsqueeze(0).to(device)\n",
    "            #print(img.shape) # torch.Size([1, 3, 224, 224])\n",
    "\n",
    "            # Load ImageNet class names\n",
    "            labels_map = json.load(open('labels_map.txt'))\n",
    "            labels_map = [labels_map[str(i)] for i in range(1000)]\n",
    "\n",
    "            # Classify\n",
    "            model.eval()\n",
    "            tick = time.time()\n",
    "            with torch.no_grad():\n",
    "                outputs = model(img)\n",
    "            #print(\"eval time=\", time.time()-tick)\n",
    "            evaltime.append(time.time()-tick)\n",
    "\n",
    "            # Print predictions\n",
    "            #print('-----')\n",
    "            #for idx in torch.topk(outputs, k=5).indices.squeeze(0).tolist():\n",
    "            #    prob = torch.softmax(outputs, dim=1)[0, idx].item()\n",
    "            #    print('{label:<75} ({p:.2f}%)'.format(label=labels_map[idx], p=prob*100))\n",
    "        print(\"device:\", device)\n",
    "        print(\"mean eval time:\", np.mean(evaltime))"
   ]
  },
  {
   "cell_type": "markdown",
   "metadata": {},
   "source": [
    "# setup efficientnet"
   ]
  },
  {
   "cell_type": "code",
   "execution_count": 26,
   "metadata": {
    "scrolled": false
   },
   "outputs": [
    {
     "name": "stdout",
     "output_type": "stream",
     "text": [
      "Requirement already up-to-date: efficientnet-pytorch in /home/ubuntu/anaconda3/envs/pytorch_p36/lib/python3.6/site-packages (0.5.1)\n",
      "Requirement already satisfied, skipping upgrade: torch in /home/ubuntu/anaconda3/envs/pytorch_p36/lib/python3.6/site-packages (from efficientnet-pytorch) (1.1.0)\n",
      "Requirement already satisfied, skipping upgrade: numpy in /home/ubuntu/anaconda3/envs/pytorch_p36/lib/python3.6/site-packages (from torch->efficientnet-pytorch) (1.15.4)\n",
      "\u001b[33mWARNING: You are using pip version 19.2.3, however version 19.3.1 is available.\n",
      "You should consider upgrading via the 'pip install --upgrade pip' command.\u001b[0m\n",
      "Loaded pretrained weights for efficientnet-b0\n"
     ]
    }
   ],
   "source": [
    "!pip install --upgrade efficientnet-pytorch\n",
    "model = EfficientNet.from_pretrained('efficientnet-b0').to(\"cuda\").eval()"
   ]
  },
  {
   "cell_type": "code",
   "execution_count": 27,
   "metadata": {},
   "outputs": [
    {
     "name": "stdout",
     "output_type": "stream",
     "text": [
      "device: cuda\n",
      "mean eval time: 0.016363451480865477\n",
      "device: cpu\n",
      "mean eval time: 0.07561261653900146\n"
     ]
    }
   ],
   "source": [
    "# Inference\n",
    "eval(model)"
   ]
  },
  {
   "cell_type": "code",
   "execution_count": 42,
   "metadata": {},
   "outputs": [
    {
     "name": "stdout",
     "output_type": "stream",
     "text": [
      "Loaded pretrained weights for efficientnet-b1\n",
      "device: cuda\n",
      "mean eval time: 0.023228819370269774\n",
      "device: cpu\n",
      "mean eval time: 0.11354966163635254\n"
     ]
    }
   ],
   "source": [
    "model = EfficientNet.from_pretrained('efficientnet-b1').to(\"cuda\").eval()\n",
    "eval(model, imsize=240)"
   ]
  },
  {
   "cell_type": "code",
   "execution_count": 43,
   "metadata": {},
   "outputs": [
    {
     "name": "stdout",
     "output_type": "stream",
     "text": [
      "Loaded pretrained weights for efficientnet-b2\n",
      "device: cuda\n",
      "mean eval time: 0.023241665363311768\n",
      "device: cpu\n",
      "mean eval time: 0.12134814977645875\n"
     ]
    }
   ],
   "source": [
    "model = EfficientNet.from_pretrained('efficientnet-b2').to(\"cuda\").eval()\n",
    "eval(model, imsize=260)"
   ]
  },
  {
   "cell_type": "code",
   "execution_count": 37,
   "metadata": {},
   "outputs": [
    {
     "name": "stderr",
     "output_type": "stream",
     "text": [
      "Downloading: \"http://storage.googleapis.com/public-models/efficientnet/efficientnet-b3-5fb5a3c3.pth\" to /home/ubuntu/.cache/torch/checkpoints/efficientnet-b3-5fb5a3c3.pth\n",
      "100%|██████████| 49388949/49388949 [00:04<00:00, 11438704.75it/s]\n"
     ]
    },
    {
     "name": "stdout",
     "output_type": "stream",
     "text": [
      "Loaded pretrained weights for efficientnet-b3\n",
      "device: cuda\n",
      "mean eval time: 0.026402366161346436\n",
      "device: cpu\n",
      "mean eval time: 0.1732327389717102\n"
     ]
    }
   ],
   "source": [
    "model = EfficientNet.from_pretrained('efficientnet-b3').to(\"cuda\").eval()\n",
    "eval(model, imsize=300)"
   ]
  },
  {
   "cell_type": "code",
   "execution_count": 38,
   "metadata": {},
   "outputs": [
    {
     "name": "stderr",
     "output_type": "stream",
     "text": [
      "Downloading: \"http://storage.googleapis.com/public-models/efficientnet/efficientnet-b4-6ed6700e.pth\" to /home/ubuntu/.cache/torch/checkpoints/efficientnet-b4-6ed6700e.pth\n",
      "100%|██████████| 77999237/77999237 [00:07<00:00, 10482964.11it/s]\n"
     ]
    },
    {
     "name": "stdout",
     "output_type": "stream",
     "text": [
      "Loaded pretrained weights for efficientnet-b4\n",
      "device: cuda\n",
      "mean eval time: 0.032100801467895505\n",
      "device: cpu\n",
      "mean eval time: 0.29550394535064695\n"
     ]
    }
   ],
   "source": [
    "model = EfficientNet.from_pretrained('efficientnet-b4').to(\"cuda\").eval()\n",
    "eval(model, imsize=380)"
   ]
  },
  {
   "cell_type": "code",
   "execution_count": 39,
   "metadata": {},
   "outputs": [
    {
     "name": "stderr",
     "output_type": "stream",
     "text": [
      "Downloading: \"http://storage.googleapis.com/public-models/efficientnet/efficientnet-b5-b6417697.pth\" to /home/ubuntu/.cache/torch/checkpoints/efficientnet-b5-b6417697.pth\n",
      "100%|██████████| 122410125/122410125 [00:13<00:00, 9212654.62it/s]\n"
     ]
    },
    {
     "name": "stdout",
     "output_type": "stream",
     "text": [
      "Loaded pretrained weights for efficientnet-b5\n",
      "device: cuda\n",
      "mean eval time: 0.04039142847061157\n",
      "device: cpu\n",
      "mean eval time: 0.5424843287467956\n"
     ]
    }
   ],
   "source": [
    "model = EfficientNet.from_pretrained('efficientnet-b5').to(\"cuda\").eval()\n",
    "eval(model, imsize=456)"
   ]
  },
  {
   "cell_type": "code",
   "execution_count": 40,
   "metadata": {},
   "outputs": [
    {
     "name": "stderr",
     "output_type": "stream",
     "text": [
      "Downloading: \"http://storage.googleapis.com/public-models/efficientnet/efficientnet-b6-c76e70fd.pth\" to /home/ubuntu/.cache/torch/checkpoints/efficientnet-b6-c76e70fd.pth\n",
      "100%|██████████| 173245619/173245619 [00:16<00:00, 10384480.82it/s]\n"
     ]
    },
    {
     "name": "stdout",
     "output_type": "stream",
     "text": [
      "Loaded pretrained weights for efficientnet-b6\n",
      "device: cuda\n",
      "mean eval time: 0.045633013248443606\n",
      "device: cpu\n",
      "mean eval time: 0.918332896232605\n"
     ]
    }
   ],
   "source": [
    "model = EfficientNet.from_pretrained('efficientnet-b6').to(\"cuda\").eval()\n",
    "eval(model, imsize=528)"
   ]
  },
  {
   "cell_type": "code",
   "execution_count": 41,
   "metadata": {},
   "outputs": [
    {
     "name": "stderr",
     "output_type": "stream",
     "text": [
      "Downloading: \"http://storage.googleapis.com/public-models/efficientnet/efficientnet-b7-dcc49843.pth\" to /home/ubuntu/.cache/torch/checkpoints/efficientnet-b7-dcc49843.pth\n",
      "100%|██████████| 266860719/266860719 [00:25<00:00, 10592894.44it/s]\n"
     ]
    },
    {
     "name": "stdout",
     "output_type": "stream",
     "text": [
      "Loaded pretrained weights for efficientnet-b7\n",
      "device: cuda\n",
      "mean eval time: 0.057306532859802244\n",
      "device: cpu\n",
      "mean eval time: 1.9748633265495301\n"
     ]
    }
   ],
   "source": [
    "model = EfficientNet.from_pretrained('efficientnet-b7').to(\"cuda\").eval()\n",
    "eval(model, imsize=600)"
   ]
  },
  {
   "cell_type": "markdown",
   "metadata": {},
   "source": [
    "# setup and eval resnet"
   ]
  },
  {
   "cell_type": "code",
   "execution_count": 35,
   "metadata": {},
   "outputs": [
    {
     "name": "stderr",
     "output_type": "stream",
     "text": [
      "Downloading: \"https://download.pytorch.org/models/resnet18-5c106cde.pth\" to /home/ubuntu/.cache/torch/checkpoints/resnet18-5c106cde.pth\n",
      "100%|██████████| 46827520/46827520 [00:04<00:00, 9979633.85it/s] \n"
     ]
    },
    {
     "name": "stdout",
     "output_type": "stream",
     "text": [
      "device: cuda\n",
      "mean eval time: 0.0038674426078796386\n",
      "device: cpu\n",
      "mean eval time: 0.048480544090271\n"
     ]
    }
   ],
   "source": [
    "model = models.resnet18(pretrained=True).to(\"cuda\").eval()\n",
    "eval(model)"
   ]
  },
  {
   "cell_type": "code",
   "execution_count": 34,
   "metadata": {},
   "outputs": [
    {
     "name": "stderr",
     "output_type": "stream",
     "text": [
      "Downloading: \"https://download.pytorch.org/models/resnet34-333f7ec4.pth\" to /home/ubuntu/.cache/torch/checkpoints/resnet34-333f7ec4.pth\n",
      "100%|██████████| 87306240/87306240 [00:07<00:00, 11954755.45it/s]\n"
     ]
    },
    {
     "name": "stdout",
     "output_type": "stream",
     "text": [
      "device: cuda\n",
      "mean eval time: 0.006579260826110839\n",
      "device: cpu\n",
      "mean eval time: 0.08133378267288208\n"
     ]
    }
   ],
   "source": [
    "model = models.resnet34(pretrained=True).to(\"cuda\").eval()\n",
    "eval(model)"
   ]
  },
  {
   "cell_type": "code",
   "execution_count": 33,
   "metadata": {},
   "outputs": [
    {
     "name": "stdout",
     "output_type": "stream",
     "text": [
      "device: cuda\n",
      "mean eval time: 0.009344351291656495\n",
      "device: cpu\n",
      "mean eval time: 0.11571614980697632\n"
     ]
    }
   ],
   "source": [
    "model = models.resnet50(pretrained=True).to(\"cuda\").eval()\n",
    "eval(model)"
   ]
  },
  {
   "cell_type": "code",
   "execution_count": 32,
   "metadata": {},
   "outputs": [
    {
     "name": "stdout",
     "output_type": "stream",
     "text": [
      "device: cuda\n",
      "mean eval time: 0.018200149536132814\n",
      "device: cpu\n",
      "mean eval time: 0.2021352219581604\n"
     ]
    }
   ],
   "source": [
    "model = models.resnet101(pretrained=True).to(\"cuda\").eval()\n",
    "eval(model)"
   ]
  },
  {
   "cell_type": "code",
   "execution_count": 31,
   "metadata": {},
   "outputs": [
    {
     "name": "stderr",
     "output_type": "stream",
     "text": [
      "Downloading: \"https://download.pytorch.org/models/resnet152-b121ed2d.pth\" to /home/ubuntu/.cache/torch/checkpoints/resnet152-b121ed2d.pth\n",
      "100%|██████████| 241530880/241530880 [00:22<00:00, 10941806.35it/s]\n"
     ]
    },
    {
     "name": "stdout",
     "output_type": "stream",
     "text": [
      "device: cuda\n",
      "mean eval time: 0.02697753667831421\n",
      "device: cpu\n",
      "mean eval time: 0.2881332993507385\n"
     ]
    }
   ],
   "source": [
    "model = models.resnet152(pretrained=True).to(\"cuda\").eval()\n",
    "eval(model)"
   ]
  },
  {
   "cell_type": "code",
   "execution_count": null,
   "metadata": {},
   "outputs": [],
   "source": []
  }
 ],
 "metadata": {
  "kernelspec": {
   "display_name": "Python 3",
   "language": "python",
   "name": "python3"
  },
  "language_info": {
   "codemirror_mode": {
    "name": "ipython",
    "version": 3
   },
   "file_extension": ".py",
   "mimetype": "text/x-python",
   "name": "python",
   "nbconvert_exporter": "python",
   "pygments_lexer": "ipython3",
   "version": "3.6.5"
  }
 },
 "nbformat": 4,
 "nbformat_minor": 2
}
